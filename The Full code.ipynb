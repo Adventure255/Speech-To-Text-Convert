{
 "cells": [
  {
   "cell_type": "code",
   "execution_count": 1,
   "id": "7998ad3f",
   "metadata": {},
   "outputs": [
    {
     "name": "stdout",
     "output_type": "stream",
     "text": [
      "Requirement already satisfied: assemblyai in c:\\users\\dell\\anaconda3\\lib\\site-packages (0.19.0)\n",
      "Requirement already satisfied: httpx>=0.19.0 in c:\\users\\dell\\anaconda3\\lib\\site-packages (from assemblyai) (0.25.1)\n",
      "Requirement already satisfied: pydantic!=1.10.7,>=1.7.0 in c:\\users\\dell\\anaconda3\\lib\\site-packages (from assemblyai) (1.10.8)\n",
      "Requirement already satisfied: typing-extensions>=3.7 in c:\\users\\dell\\anaconda3\\lib\\site-packages (from assemblyai) (4.7.1)\n",
      "Requirement already satisfied: websockets>=11.0 in c:\\users\\dell\\anaconda3\\lib\\site-packages (from assemblyai) (12.0)\n",
      "Requirement already satisfied: anyio in c:\\users\\dell\\anaconda3\\lib\\site-packages (from httpx>=0.19.0->assemblyai) (3.5.0)\n",
      "Requirement already satisfied: certifi in c:\\users\\dell\\anaconda3\\lib\\site-packages (from httpx>=0.19.0->assemblyai) (2023.7.22)\n",
      "Requirement already satisfied: httpcore in c:\\users\\dell\\anaconda3\\lib\\site-packages (from httpx>=0.19.0->assemblyai) (1.0.1)\n",
      "Requirement already satisfied: idna in c:\\users\\dell\\anaconda3\\lib\\site-packages (from httpx>=0.19.0->assemblyai) (3.4)\n",
      "Requirement already satisfied: sniffio in c:\\users\\dell\\anaconda3\\lib\\site-packages (from httpx>=0.19.0->assemblyai) (1.2.0)\n",
      "Requirement already satisfied: h11<0.15,>=0.13 in c:\\users\\dell\\anaconda3\\lib\\site-packages (from httpcore->httpx>=0.19.0->assemblyai) (0.14.0)\n",
      "Note: you may need to restart the kernel to use updated packages.\n"
     ]
    }
   ],
   "source": [
    "pip install assemblyai"
   ]
  },
  {
   "cell_type": "code",
   "execution_count": 1,
   "id": "53ad2b93",
   "metadata": {},
   "outputs": [],
   "source": [
    "import winsound\n",
    "\n",
    "filename = 'audio3.wav'\n",
    "winsound.PlaySound(filename, winsound.SND_FILENAME)"
   ]
  },
  {
   "cell_type": "code",
   "execution_count": 2,
   "id": "466a0e12",
   "metadata": {},
   "outputs": [
    {
     "name": "stdout",
     "output_type": "stream",
     "text": [
      "What is Data science? Data Science is about data gathering, analysis and decision making. Data science is about finding patterns in data through analysis and make future predictions. Data science is used in many industries in the world today. For example, banking, healthcare and manufacturing. Python is a programming language widely used by data scientists. Python has, inbuilt mathematical libraries functions, making it easier to calculate mathematical problems and to perform data analysis. To know more about it, join IDC 409. Introduction to Data Science. Thank you.\n"
     ]
    }
   ],
   "source": [
    "import assemblyai as aai\n",
    "aai.settings.api_key = f\"11f608a57c154774befccc8c1fdb6597\"\n",
    "Audio_file=\"audio3.wav\"\n",
    "config=aai.TranscriptionConfig(auto_highlights=True)\n",
    "transcriber = aai.Transcriber()\n",
    "transcript = transcriber.transcribe(Audio_file, config=config)\n",
    "transcription_text = transcript.text\n",
    "print(transcription_text)"
   ]
  }
 ],
 "metadata": {
  "kernelspec": {
   "display_name": "Python 3 (ipykernel)",
   "language": "python",
   "name": "python3"
  },
  "language_info": {
   "codemirror_mode": {
    "name": "ipython",
    "version": 3
   },
   "file_extension": ".py",
   "mimetype": "text/x-python",
   "name": "python",
   "nbconvert_exporter": "python",
   "pygments_lexer": "ipython3",
   "version": "3.11.5"
  }
 },
 "nbformat": 4,
 "nbformat_minor": 5
}
